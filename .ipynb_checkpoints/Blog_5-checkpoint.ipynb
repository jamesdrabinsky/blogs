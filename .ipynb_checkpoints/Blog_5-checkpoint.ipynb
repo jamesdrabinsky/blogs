{
 "cells": [
  {
   "cell_type": "markdown",
   "metadata": {},
   "source": [
    "# Vectorization with Doc2Vec"
   ]
  },
  {
   "cell_type": "code",
   "execution_count": 3,
   "metadata": {
    "collapsed": true
   },
   "outputs": [],
   "source": [
    "import pandas as pd\n",
    "import numpy as np\n",
    "\n",
    "import pickle\n",
    "\n",
    "from sklearn import utils\n",
    "from sklearn.metrics import classification_report\n",
    "\n",
    "from gensim.models.doc2vec import Doc2Vec, TaggedDocument\n",
    "from collections import OrderedDict\n",
    "import multiprocessing\n",
    "\n",
    "import warnings\n",
    "warnings.filterwarnings('ignore')\n",
    "\n",
    "np.random.seed(42)"
   ]
  },
  {
   "cell_type": "code",
   "execution_count": 7,
   "metadata": {},
   "outputs": [],
   "source": [
    "with open('../Capstone_Final/Capstone_Public/Data/tweets2_df', 'rb') as f:\n",
    "    tweets = pickle.load(f)"
   ]
  },
  {
   "cell_type": "code",
   "execution_count": 8,
   "metadata": {
    "scrolled": true
   },
   "outputs": [
    {
     "data": {
      "text/html": [
       "<div>\n",
       "<style scoped>\n",
       "    .dataframe tbody tr th:only-of-type {\n",
       "        vertical-align: middle;\n",
       "    }\n",
       "\n",
       "    .dataframe tbody tr th {\n",
       "        vertical-align: top;\n",
       "    }\n",
       "\n",
       "    .dataframe thead th {\n",
       "        text-align: right;\n",
       "    }\n",
       "</style>\n",
       "<table border=\"1\" class=\"dataframe\">\n",
       "  <thead>\n",
       "    <tr style=\"text-align: right;\">\n",
       "      <th></th>\n",
       "      <th>user</th>\n",
       "      <th>date</th>\n",
       "      <th>text</th>\n",
       "    </tr>\n",
       "  </thead>\n",
       "  <tbody>\n",
       "    <tr>\n",
       "      <th>0</th>\n",
       "      <td>rocknlau19</td>\n",
       "      <td>2018-10-22 10:37:23</td>\n",
       "      <td>School may be out this week, but the cast of #...</td>\n",
       "    </tr>\n",
       "    <tr>\n",
       "      <th>1</th>\n",
       "      <td>abdullahgrms</td>\n",
       "      <td>2018-10-22 10:35:54</td>\n",
       "      <td>A new scene between Newt and Leta in #Fantasti...</td>\n",
       "    </tr>\n",
       "    <tr>\n",
       "      <th>2</th>\n",
       "      <td>Baxx_94</td>\n",
       "      <td>2018-10-22 10:31:07</td>\n",
       "      <td>.@jk_rowling stopped by the @TODAYshow in NY, ...</td>\n",
       "    </tr>\n",
       "    <tr>\n",
       "      <th>3</th>\n",
       "      <td>MoviesSwords</td>\n",
       "      <td>2018-10-22 10:31:07</td>\n",
       "      <td>The cast of #FantasticBeasts: The Crimes of Gr...</td>\n",
       "    </tr>\n",
       "    <tr>\n",
       "      <th>4</th>\n",
       "      <td>MoviesDundrum</td>\n",
       "      <td>2018-10-22 10:31:02</td>\n",
       "      <td>The cast of #FantasticBeasts: The Crimes of Gr...</td>\n",
       "    </tr>\n",
       "  </tbody>\n",
       "</table>\n",
       "</div>"
      ],
      "text/plain": [
       "            user                date  \\\n",
       "0     rocknlau19 2018-10-22 10:37:23   \n",
       "1   abdullahgrms 2018-10-22 10:35:54   \n",
       "2        Baxx_94 2018-10-22 10:31:07   \n",
       "3   MoviesSwords 2018-10-22 10:31:07   \n",
       "4  MoviesDundrum 2018-10-22 10:31:02   \n",
       "\n",
       "                                                text  \n",
       "0  School may be out this week, but the cast of #...  \n",
       "1  A new scene between Newt and Leta in #Fantasti...  \n",
       "2  .@jk_rowling stopped by the @TODAYshow in NY, ...  \n",
       "3  The cast of #FantasticBeasts: The Crimes of Gr...  \n",
       "4  The cast of #FantasticBeasts: The Crimes of Gr...  "
      ]
     },
     "execution_count": 8,
     "metadata": {},
     "output_type": "execute_result"
    }
   ],
   "source": [
    "tweets.head()"
   ]
  },
  {
   "cell_type": "markdown",
   "metadata": {},
   "source": [
    "*You will want to preprocess the text before vectorization normally*"
   ]
  },
  {
   "cell_type": "markdown",
   "metadata": {},
   "source": [
    "**Step 1: Tag Documents**"
   ]
  },
  {
   "cell_type": "code",
   "execution_count": 9,
   "metadata": {
    "collapsed": true
   },
   "outputs": [],
   "source": [
    "tagged_documents = []\n",
    "for indx, doc in enumerate(tweets[\"text\"].values):\n",
    "    tagged_documents.append(TaggedDocument([x for x in doc.split()], [indx]))"
   ]
  },
  {
   "cell_type": "markdown",
   "metadata": {},
   "source": [
    "**Step 2: Define Models**"
   ]
  },
  {
   "cell_type": "code",
   "execution_count": 10,
   "metadata": {
    "collapsed": true
   },
   "outputs": [],
   "source": [
    "cores = multiprocessing.cpu_count()\n",
    "vec_size = 300\n",
    "\n",
    "model_dbow = Doc2Vec(dm=0, dbow_words=1, vector_size=vec_size, negative=5, hs=0, min_count=2, sample=0, \n",
    "             workers=cores)\n",
    "\n",
    "model_dm_mean = Doc2Vec(dm=1, dm_mean=1, vector_size=vec_size, window=10, negative=5, hs=0, min_count=2, sample=0, \n",
    "                workers=cores, alpha=0.05, comment='alpha=0.05')\n",
    "\n",
    "model_dm_concat = Doc2Vec(dm=1, dm_concat=1, vector_size=vec_size, window=5, negative=5, hs=0, min_count=2, sample=0, \n",
    "                  workers=cores)"
   ]
  },
  {
   "cell_type": "markdown",
   "metadata": {},
   "source": [
    "**Step 3: Build Vocabulary**"
   ]
  },
  {
   "cell_type": "code",
   "execution_count": 11,
   "metadata": {},
   "outputs": [
    {
     "name": "stdout",
     "output_type": "stream",
     "text": [
      "Doc2Vec(dbow+w,d300,n5,w5,mc2,t4) vocabulary scanned & state initialized\n",
      "Doc2Vec(\"alpha=0.05\",dm/m,d300,n5,w10,mc2,t4) vocabulary scanned & state initialized\n",
      "Doc2Vec(dm/c,d300,n5,w5,mc2,t4) vocabulary scanned & state initialized\n"
     ]
    }
   ],
   "source": [
    "models = [(model_dbow, 'model_dbow'), (model_dm_mean, 'model_dm_mean'), (model_dm_concat, 'model_dm_concat')]\n",
    "\n",
    "for model in models:\n",
    "    model[0].build_vocab(tagged_documents)\n",
    "    print(\"%s vocabulary scanned & state initialized\" % model[0])\n",
    "    \n",
    "models_by_name = OrderedDict((str(model[1]), model[0]) for model in models)"
   ]
  },
  {
   "cell_type": "markdown",
   "metadata": {},
   "source": [
    "**Step 4: Train the Models**"
   ]
  },
  {
   "cell_type": "code",
   "execution_count": 12,
   "metadata": {},
   "outputs": [
    {
     "name": "stdout",
     "output_type": "stream",
     "text": [
      "Epoch: 0 Model: Doc2Vec(dbow+w,d300,n5,w5,mc2,t4)\n",
      "Epoch: 1 Model: Doc2Vec(dbow+w,d300,n5,w5,mc2,t4)\n",
      "Epoch: 2 Model: Doc2Vec(dbow+w,d300,n5,w5,mc2,t4)\n",
      "Epoch: 3 Model: Doc2Vec(dbow+w,d300,n5,w5,mc2,t4)\n",
      "Epoch: 4 Model: Doc2Vec(dbow+w,d300,n5,w5,mc2,t4)\n",
      "Epoch: 0 Model: Doc2Vec(\"alpha=0.05\",dm/m,d300,n5,w10,mc2,t4)\n",
      "Epoch: 1 Model: Doc2Vec(\"alpha=0.05\",dm/m,d300,n5,w10,mc2,t4)\n",
      "Epoch: 2 Model: Doc2Vec(\"alpha=0.05\",dm/m,d300,n5,w10,mc2,t4)\n",
      "Epoch: 3 Model: Doc2Vec(\"alpha=0.05\",dm/m,d300,n5,w10,mc2,t4)\n",
      "Epoch: 4 Model: Doc2Vec(\"alpha=0.05\",dm/m,d300,n5,w10,mc2,t4)\n",
      "Epoch: 0 Model: Doc2Vec(dm/c,d300,n5,w5,mc2,t4)\n",
      "Epoch: 1 Model: Doc2Vec(dm/c,d300,n5,w5,mc2,t4)\n",
      "Epoch: 2 Model: Doc2Vec(dm/c,d300,n5,w5,mc2,t4)\n",
      "Epoch: 3 Model: Doc2Vec(dm/c,d300,n5,w5,mc2,t4)\n",
      "Epoch: 4 Model: Doc2Vec(dm/c,d300,n5,w5,mc2,t4)\n"
     ]
    }
   ],
   "source": [
    "for model in models:\n",
    "    for epoch in range(5):\n",
    "        print('Epoch: {0}'.format(epoch), 'Model: %s' % (model[0]))\n",
    "        model[0].train(utils.shuffle(tagged_documents), total_examples=len(tagged_documents), epochs=1)\n",
    "        model[0].alpha -= 0.002\n",
    "        model[0].min_alpha = model[0].alpha"
   ]
  }
 ],
 "metadata": {
  "kernelspec": {
   "display_name": "Python 3",
   "language": "python",
   "name": "python3"
  },
  "language_info": {
   "codemirror_mode": {
    "name": "ipython",
    "version": 3
   },
   "file_extension": ".py",
   "mimetype": "text/x-python",
   "name": "python",
   "nbconvert_exporter": "python",
   "pygments_lexer": "ipython3",
   "version": "3.6.6"
  }
 },
 "nbformat": 4,
 "nbformat_minor": 2
}
